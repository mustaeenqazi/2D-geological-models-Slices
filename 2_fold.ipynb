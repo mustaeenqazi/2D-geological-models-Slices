{
 "cells": [
  {
   "cell_type": "code",
   "execution_count": 1,
   "metadata": {},
   "outputs": [],
   "source": [
    "%matplotlib inline\n",
    "from pyvista import set_plot_theme\n",
    "set_plot_theme('document')"
   ]
  },
  {
   "cell_type": "code",
   "execution_count": 2,
   "metadata": {},
   "outputs": [
    {
     "name": "stdout",
     "output_type": "stream",
     "text": [
      "3.7.7\n"
     ]
    }
   ],
   "source": [
    "from platform import python_version\n",
    "print(python_version())"
   ]
  },
  {
   "cell_type": "markdown",
   "metadata": {},
   "source": [
    "\n",
    "# Model 2 - Anticline\n"
   ]
  },
  {
   "cell_type": "markdown",
   "metadata": {},
   "source": [
    "A simple anticline structure. We start by importing the necessary\n",
    "dependencies:\n",
    "\n",
    "\n"
   ]
  },
  {
   "cell_type": "code",
   "execution_count": 2,
   "metadata": {},
   "outputs": [
    {
     "name": "stderr",
     "output_type": "stream",
     "text": [
      "WARNING (theano.configdefaults): g++ not available, if using conda: `conda install m2w64-toolchain`\n",
      "C:\\Users\\ASUS\\AppData\\Local\\conda\\conda\\envs\\tf\\lib\\site-packages\\theano\\configdefaults.py:560: UserWarning: DeprecationWarning: there is no c++ compiler.This is deprecated and with Theano 0.11 a c++ compiler will be mandatory\n",
      "  warnings.warn(\"DeprecationWarning: there is no c++ compiler.\"\n",
      "WARNING (theano.configdefaults): g++ not detected ! Theano will be unable to execute optimized C-implementations (for both CPU and GPU) and will default to Python implementations. Performance will be severely degraded. To remove this warning, set Theano flags cxx to an empty string.\n",
      "WARNING (theano.tensor.blas): Using NumPy C-API based implementation for BLAS functions.\n"
     ]
    }
   ],
   "source": [
    "# Importing GemPy\n",
    "import gempy as gp\n",
    "\n",
    "import pandas as pd\n",
    "pd.set_option('precision', 2)"
   ]
  },
  {
   "cell_type": "code",
   "execution_count": 3,
   "metadata": {},
   "outputs": [],
   "source": [
    "import numpy as np\n",
    "import matplotlib.pyplot as plt\n"
   ]
  },
  {
   "cell_type": "markdown",
   "metadata": {},
   "source": [
    "Creating the model by importing the input data and displaying it:\n",
    "\n",
    "\n"
   ]
  },
  {
   "cell_type": "code",
   "execution_count": 36,
   "metadata": {},
   "outputs": [
    {
     "name": "stdout",
     "output_type": "stream",
     "text": [
      "Active grids: ['regular']\n"
     ]
    }
   ],
   "source": [
    "data_path = 'https://raw.githubusercontent.com/cgre-aachen/gempy_data/master/'\n",
    "path_to_data = data_path + \"/data/input_data/jan_models/\"\n",
    "geo_data = gp.create_data('fold', extent=[0, 1000, 0, 1000, 0, 1000], resolution=[20, 2, 20],\n",
    "                          path_o=path_to_data + \"model2_orientations.csv\",\n",
    "                          path_i=path_to_data + \"model2_surface_points.csv\")"
   ]
  },
  {
   "cell_type": "code",
   "execution_count": 37,
   "metadata": {},
   "outputs": [
    {
     "data": {
      "text/html": [
       "<div>\n",
       "<style scoped>\n",
       "    .dataframe tbody tr th:only-of-type {\n",
       "        vertical-align: middle;\n",
       "    }\n",
       "\n",
       "    .dataframe tbody tr th {\n",
       "        vertical-align: top;\n",
       "    }\n",
       "\n",
       "    .dataframe thead th {\n",
       "        text-align: right;\n",
       "    }\n",
       "</style>\n",
       "<table border=\"1\" class=\"dataframe\">\n",
       "  <thead>\n",
       "    <tr style=\"text-align: right;\">\n",
       "      <th></th>\n",
       "      <th></th>\n",
       "      <th>X</th>\n",
       "      <th>Y</th>\n",
       "      <th>Z</th>\n",
       "      <th>smooth</th>\n",
       "      <th>surface</th>\n",
       "      <th>G_x</th>\n",
       "      <th>G_y</th>\n",
       "      <th>G_z</th>\n",
       "    </tr>\n",
       "  </thead>\n",
       "  <tbody>\n",
       "    <tr>\n",
       "      <th rowspan=\"5\" valign=\"top\">surface_points</th>\n",
       "      <th>0</th>\n",
       "      <td>0</td>\n",
       "      <td>100</td>\n",
       "      <td>200</td>\n",
       "      <td>2.00e-06</td>\n",
       "      <td>rock1</td>\n",
       "      <td>NaN</td>\n",
       "      <td>NaN</td>\n",
       "      <td>NaN</td>\n",
       "    </tr>\n",
       "    <tr>\n",
       "      <th>1</th>\n",
       "      <td>0</td>\n",
       "      <td>500</td>\n",
       "      <td>200</td>\n",
       "      <td>2.00e-06</td>\n",
       "      <td>rock1</td>\n",
       "      <td>NaN</td>\n",
       "      <td>NaN</td>\n",
       "      <td>NaN</td>\n",
       "    </tr>\n",
       "    <tr>\n",
       "      <th>2</th>\n",
       "      <td>0</td>\n",
       "      <td>900</td>\n",
       "      <td>200</td>\n",
       "      <td>2.00e-06</td>\n",
       "      <td>rock1</td>\n",
       "      <td>NaN</td>\n",
       "      <td>NaN</td>\n",
       "      <td>NaN</td>\n",
       "    </tr>\n",
       "    <tr>\n",
       "      <th>3</th>\n",
       "      <td>400</td>\n",
       "      <td>100</td>\n",
       "      <td>600</td>\n",
       "      <td>2.00e-06</td>\n",
       "      <td>rock1</td>\n",
       "      <td>NaN</td>\n",
       "      <td>NaN</td>\n",
       "      <td>NaN</td>\n",
       "    </tr>\n",
       "    <tr>\n",
       "      <th>4</th>\n",
       "      <td>400</td>\n",
       "      <td>500</td>\n",
       "      <td>600</td>\n",
       "      <td>2.00e-06</td>\n",
       "      <td>rock1</td>\n",
       "      <td>NaN</td>\n",
       "      <td>NaN</td>\n",
       "      <td>NaN</td>\n",
       "    </tr>\n",
       "  </tbody>\n",
       "</table>\n",
       "</div>"
      ],
      "text/plain": [
       "                    X    Y    Z    smooth surface  G_x  G_y  G_z\n",
       "surface_points 0    0  100  200  2.00e-06   rock1  NaN  NaN  NaN\n",
       "               1    0  500  200  2.00e-06   rock1  NaN  NaN  NaN\n",
       "               2    0  900  200  2.00e-06   rock1  NaN  NaN  NaN\n",
       "               3  400  100  600  2.00e-06   rock1  NaN  NaN  NaN\n",
       "               4  400  500  600  2.00e-06   rock1  NaN  NaN  NaN"
      ]
     },
     "execution_count": 37,
     "metadata": {},
     "output_type": "execute_result"
    }
   ],
   "source": [
    "geo_data.get_data().head()"
   ]
  },
  {
   "cell_type": "markdown",
   "metadata": {},
   "source": [
    "Setting and ordering the units and series:\n",
    "\n",
    "\n"
   ]
  },
  {
   "cell_type": "code",
   "execution_count": 38,
   "metadata": {},
   "outputs": [
    {
     "data": {
      "text/html": [
       "<style  type=\"text/css\" >\n",
       "    #T_9ee53862_228a_11eb_8c28_38d5478bd874row0_col3 {\n",
       "            background-color:  #015482;\n",
       "        }    #T_9ee53862_228a_11eb_8c28_38d5478bd874row1_col3 {\n",
       "            background-color:  #9f0052;\n",
       "        }    #T_9ee53862_228a_11eb_8c28_38d5478bd874row2_col3 {\n",
       "            background-color:  #ffbe00;\n",
       "        }</style><table id=\"T_9ee53862_228a_11eb_8c28_38d5478bd874\" ><thead>    <tr>        <th class=\"blank level0\" ></th>        <th class=\"col_heading level0 col0\" >surface</th>        <th class=\"col_heading level0 col1\" >series</th>        <th class=\"col_heading level0 col2\" >order_surfaces</th>        <th class=\"col_heading level0 col3\" >color</th>        <th class=\"col_heading level0 col4\" >id</th>    </tr></thead><tbody>\n",
       "                <tr>\n",
       "                        <th id=\"T_9ee53862_228a_11eb_8c28_38d5478bd874level0_row0\" class=\"row_heading level0 row0\" >0</th>\n",
       "                        <td id=\"T_9ee53862_228a_11eb_8c28_38d5478bd874row0_col0\" class=\"data row0 col0\" >rock1</td>\n",
       "                        <td id=\"T_9ee53862_228a_11eb_8c28_38d5478bd874row0_col1\" class=\"data row0 col1\" >Strat_Series</td>\n",
       "                        <td id=\"T_9ee53862_228a_11eb_8c28_38d5478bd874row0_col2\" class=\"data row0 col2\" >1</td>\n",
       "                        <td id=\"T_9ee53862_228a_11eb_8c28_38d5478bd874row0_col3\" class=\"data row0 col3\" >#015482</td>\n",
       "                        <td id=\"T_9ee53862_228a_11eb_8c28_38d5478bd874row0_col4\" class=\"data row0 col4\" >1</td>\n",
       "            </tr>\n",
       "            <tr>\n",
       "                        <th id=\"T_9ee53862_228a_11eb_8c28_38d5478bd874level0_row1\" class=\"row_heading level0 row1\" >1</th>\n",
       "                        <td id=\"T_9ee53862_228a_11eb_8c28_38d5478bd874row1_col0\" class=\"data row1 col0\" >rock2</td>\n",
       "                        <td id=\"T_9ee53862_228a_11eb_8c28_38d5478bd874row1_col1\" class=\"data row1 col1\" >Strat_Series</td>\n",
       "                        <td id=\"T_9ee53862_228a_11eb_8c28_38d5478bd874row1_col2\" class=\"data row1 col2\" >2</td>\n",
       "                        <td id=\"T_9ee53862_228a_11eb_8c28_38d5478bd874row1_col3\" class=\"data row1 col3\" >#9f0052</td>\n",
       "                        <td id=\"T_9ee53862_228a_11eb_8c28_38d5478bd874row1_col4\" class=\"data row1 col4\" >2</td>\n",
       "            </tr>\n",
       "            <tr>\n",
       "                        <th id=\"T_9ee53862_228a_11eb_8c28_38d5478bd874level0_row2\" class=\"row_heading level0 row2\" >2</th>\n",
       "                        <td id=\"T_9ee53862_228a_11eb_8c28_38d5478bd874row2_col0\" class=\"data row2 col0\" >basement</td>\n",
       "                        <td id=\"T_9ee53862_228a_11eb_8c28_38d5478bd874row2_col1\" class=\"data row2 col1\" >Basement_Series</td>\n",
       "                        <td id=\"T_9ee53862_228a_11eb_8c28_38d5478bd874row2_col2\" class=\"data row2 col2\" >1</td>\n",
       "                        <td id=\"T_9ee53862_228a_11eb_8c28_38d5478bd874row2_col3\" class=\"data row2 col3\" >#ffbe00</td>\n",
       "                        <td id=\"T_9ee53862_228a_11eb_8c28_38d5478bd874row2_col4\" class=\"data row2 col4\" >3</td>\n",
       "            </tr>\n",
       "    </tbody></table>"
      ],
      "text/plain": [
       "    surface           series  order_surfaces    color  id\n",
       "0     rock1     Strat_Series               1  #015482   1\n",
       "1     rock2     Strat_Series               2  #9f0052   2\n",
       "2  basement  Basement_Series               1  #ffbe00   3"
      ]
     },
     "execution_count": 38,
     "metadata": {},
     "output_type": "execute_result"
    }
   ],
   "source": [
    "gp.map_stack_to_surfaces(geo_data, {\"Strat_Series\": ('rock2', 'rock1'), \"Basement_Series\": ('basement')})"
   ]
  },
  {
   "cell_type": "code",
   "execution_count": 7,
   "metadata": {},
   "outputs": [
    {
     "name": "stderr",
     "output_type": "stream",
     "text": [
      "C:\\Users\\ASUS\\AppData\\Local\\conda\\conda\\envs\\tf\\lib\\site-packages\\gempy\\plot\\plot_api.py:261: UserWarning: Matplotlib is currently using module://ipykernel.pylab.backend_inline, which is a non-GUI backend, so cannot show the figure.\n",
      "  p.fig.show()\n"
     ]
    },
    {
     "data": {
      "text/plain": [
       "<gempy.plot.visualization_2d.Plot2D at 0x1ba503516c8>"
      ]
     },
     "execution_count": 7,
     "metadata": {},
     "output_type": "execute_result"
    },
    {
     "data": {
      "image/png": "[encoded data removed]",
      "text/plain": [
       "<Figure size 748.8x514.8 with 1 Axes>"
      ]
     },
     "metadata": {},
     "output_type": "display_data"
    }
   ],
   "source": [
    "gp.plot_2d(geo_data, direction=['y'])"
   ]
  },
  {
   "cell_type": "markdown",
   "metadata": {},
   "source": [
    "Calculating the model:\n",
    "\n",
    "\n"
   ]
  },
  {
   "cell_type": "code",
   "execution_count": 8,
   "metadata": {},
   "outputs": [
    {
     "name": "stdout",
     "output_type": "stream",
     "text": [
      "Setting kriging parameters to their default values.\n",
      "Compiling theano function...\n",
      "Level of Optimization:  fast_compile\n",
      "Device:  cpu\n",
      "Precision:  float64\n",
      "Number of faults:  0\n",
      "Compilation Done!\n",
      "Kriging values: \n",
      "                   values\n",
      "range            1.7e+03\n",
      "$C_o$            7.1e+04\n",
      "drift equations   [3, 3]\n"
     ]
    }
   ],
   "source": [
    "interp_data = gp.set_interpolator(geo_data, theano_optimizer='fast_compile')"
   ]
  },
  {
   "cell_type": "code",
   "execution_count": 9,
   "metadata": {},
   "outputs": [
    {
     "data": {
      "text/html": [
       "<table border=\"1\" class=\"dataframe\">\n",
       "  <thead>\n",
       "    <tr style=\"text-align: right;\">\n",
       "      <th></th>\n",
       "      <th>X</th>\n",
       "      <th>Y</th>\n",
       "      <th>Z</th>\n",
       "      <th>G_x</th>\n",
       "      <th>G_y</th>\n",
       "      <th>G_z</th>\n",
       "      <th>smooth</th>\n",
       "      <th>surface</th>\n",
       "    </tr>\n",
       "  </thead>\n",
       "  <tbody>\n",
       "    <tr>\n",
       "      <th>1</th>\n",
       "      <td>500</td>\n",
       "      <td>500</td>\n",
       "      <td>620</td>\n",
       "      <td>1.00e-12</td>\n",
       "      <td>1.00e-12</td>\n",
       "      <td>1.0</td>\n",
       "      <td>0.01</td>\n",
       "      <td>rock1</td>\n",
       "    </tr>\n",
       "    <tr>\n",
       "      <th>0</th>\n",
       "      <td>500</td>\n",
       "      <td>500</td>\n",
       "      <td>820</td>\n",
       "      <td>1.00e-12</td>\n",
       "      <td>1.00e-12</td>\n",
       "      <td>1.0</td>\n",
       "      <td>0.01</td>\n",
       "      <td>rock2</td>\n",
       "    </tr>\n",
       "  </tbody>\n",
       "</table>"
      ],
      "text/plain": [
       "     X    Y    Z       G_x       G_y  G_z  smooth surface\n",
       "1  500  500  620  1.00e-12  1.00e-12  1.0    0.01   rock1\n",
       "0  500  500  820  1.00e-12  1.00e-12  1.0    0.01   rock2"
      ]
     },
     "execution_count": 9,
     "metadata": {},
     "output_type": "execute_result"
    }
   ],
   "source": [
    "geo_data.orientations"
   ]
  },
  {
   "cell_type": "code",
   "execution_count": 10,
   "metadata": {},
   "outputs": [],
   "source": [
    "sol = gp.compute_model(geo_data)"
   ]
  },
  {
   "cell_type": "markdown",
   "metadata": {},
   "source": [
    "Displaying the result in y and x direction:\n",
    "\n",
    "\n"
   ]
  },
  {
   "cell_type": "code",
   "execution_count": 11,
   "metadata": {},
   "outputs": [
    {
     "name": "stderr",
     "output_type": "stream",
     "text": [
      "C:\\Users\\ASUS\\AppData\\Local\\conda\\conda\\envs\\tf\\lib\\site-packages\\gempy\\plot\\plot_api.py:261: UserWarning: Matplotlib is currently using module://ipykernel.pylab.backend_inline, which is a non-GUI backend, so cannot show the figure.\n",
      "  p.fig.show()\n"
     ]
    },
    {
     "data": {
      "text/plain": [
       "<gempy.plot.visualization_2d.Plot2D at 0x1ba5105f408>"
      ]
     },
     "execution_count": 11,
     "metadata": {},
     "output_type": "execute_result"
    },
    {
     "data": {
      "image/png": "[encoded data removed]",
      "text/plain": [
       "<Figure size 748.8x514.8 with 1 Axes>"
      ]
     },
     "metadata": {},
     "output_type": "display_data"
    }
   ],
   "source": [
    "gp.plot_2d(geo_data, cell_number=0,\n",
    "           direction='y', show_data=True)"
   ]
  },
  {
   "cell_type": "code",
   "execution_count": 12,
   "metadata": {},
   "outputs": [
    {
     "data": {
      "text/plain": [
       "<gempy.plot.visualization_2d.Plot2D at 0x1bfffc6a448>"
      ]
     },
     "execution_count": 12,
     "metadata": {},
     "output_type": "execute_result"
    },
    {
     "data": {
      "image/png": "[encoded data removed]",
      "text/plain": [
       "<Figure size 748.8x514.8 with 1 Axes>"
      ]
     },
     "metadata": {},
     "output_type": "display_data"
    }
   ],
   "source": [
    "import numpy as np\n",
    "Z = np.random.normal(1000, 500, size=2)\n",
    "geo_data.modify_surface_points([11, 15], Z=Z)\n",
    "gp.compute_model(geo_data)\n",
    "gp.plot_2d(geo_data, cell_number=0,\n",
    "           direction='y', show_data=True)\n",
    "#plot_geo_setting()"
   ]
  },
  {
   "cell_type": "code",
   "execution_count": 12,
   "metadata": {},
   "outputs": [],
   "source": [
    "#this cell generates lithology blocks, n_iterations defines the number of lithology blocks which we want by manipulating data\n",
    "#lith_block is a 1d array \n",
    "lith_blocks = np.array([])\n",
    "n_iterations = 6\n",
    "for i in range(n_iterations):\n",
    "    Z = np.random.normal(1000, 500, size=2)\n",
    "    geo_data.modify_surface_points([2, 3], Z=Z)\n",
    "    gp.compute_model(geo_data)\n",
    "    lith_blocks = np.append(lith_blocks, geo_data.solutions.lith_block)\n",
    "    #plt.imshow(geo_data.solutions.lith_block.reshape(50,2,50)[:, 0, :].T,origin='bottom')\n",
    "lith_blocks = lith_blocks.reshape(n_iterations, -1)\n",
    "#plt.imshow(geo_data.solutions.lith_block.reshape(50,2,50)[:, 0, :].T,origin='bottom')"
   ]
  },
  {
   "cell_type": "code",
   "execution_count": 13,
   "metadata": {},
   "outputs": [
    {
     "name": "stdout",
     "output_type": "stream",
     "text": [
      "(6, 5000)\n"
     ]
    }
   ],
   "source": [
    "print(lith_blocks.shape)"
   ]
  },
  {
   "cell_type": "code",
   "execution_count": 14,
   "metadata": {},
   "outputs": [
    {
     "name": "stdout",
     "output_type": "stream",
     "text": [
      "(50, 2, 50)\n",
      "(50, 2, 50)\n",
      "(50, 2, 50)\n",
      "(50, 2, 50)\n",
      "(50, 2, 50)\n",
      "(50, 2, 50)\n"
     ]
    }
   ],
   "source": [
    "#converting 1D array of a single block from lith_blocks to a 50,2,50 3d array\n",
    "new_blocks = []\n",
    "for bloc in lith_blocks:\n",
    "    block_reshaped = np.reshape(bloc,(50,2,50))\n",
    "    print(block_reshaped.shape)\n",
    "    new_blocks.append(block_reshaped) \n",
    "\n",
    "    "
   ]
  },
  {
   "cell_type": "code",
   "execution_count": 15,
   "metadata": {},
   "outputs": [
    {
     "name": "stdout",
     "output_type": "stream",
     "text": [
      "(50, 50)\n",
      "(50, 50)\n",
      "(50, 50)\n",
      "(50, 50)\n",
      "(50, 50)\n",
      "(50, 50)\n"
     ]
    }
   ],
   "source": [
    "#getting slices from the 3d array we got from lith_blocks(the ones saved in 'new_blocks' list)\n",
    "slices_from_blocks = []\n",
    "for arr in new_blocks:\n",
    "    model_slices = arr[:,1,:]\n",
    "    print(model_slices.shape)\n",
    "    slices_from_blocks.append(model_slices)"
   ]
  },
  {
   "cell_type": "code",
   "execution_count": 25,
   "metadata": {},
   "outputs": [
    {
     "data": {
      "image/png": "[encoded data removed]",
      "text/plain": [
       "<Figure size 288x288 with 1 Axes>"
      ]
     },
     "metadata": {},
     "output_type": "display_data"
    },
    {
     "data": {
      "image/png": "[encoded data removed]",
      "text/plain": [
       "<Figure size 288x288 with 1 Axes>"
      ]
     },
     "metadata": {},
     "output_type": "display_data"
    },
    {
     "data": {
      "image/png": "[encoded data removed]",
      "text/plain": [
       "<Figure size 288x288 with 1 Axes>"
      ]
     },
     "metadata": {},
     "output_type": "display_data"
    },
    {
     "data": {
      "image/png": "[encoded data removed]",
      "text/plain": [
       "<Figure size 288x288 with 1 Axes>"
      ]
     },
     "metadata": {},
     "output_type": "display_data"
    },
    {
     "data": {
      "image/png": "[encoded data removed]",
      "text/plain": [
       "<Figure size 288x288 with 1 Axes>"
      ]
     },
     "metadata": {},
     "output_type": "display_data"
    },
    {
     "data": {
      "image/png": "[encoded data removed]",
      "text/plain": [
       "<Figure size 288x288 with 1 Axes>"
      ]
     },
     "metadata": {},
     "output_type": "display_data"
    }
   ],
   "source": [
    "#using enumerate method to save a list of arrays as images into a directory THIS WORKED OUT FINALLY!!!!!!!!!\n",
    "\n",
    "output_dir = r'C:\\Users\\ASUS\\Desktop\\gempy_models\\training_data\\gempy_model_'\n",
    "\n",
    "for i,im in enumerate(slices_from_blocks): #i is the index of the list, im is the array object inside the list\n",
    "    \n",
    "    fig = plt.figure(figsize=(4,4))\n",
    "    ax = plt.Axes(fig, [0., 0., 1., 1.])\n",
    "    ax.set_axis_off()\n",
    "    fig.add_axes(ax)\n",
    "   \n",
    "    plt.imshow(im, cmap = 'viridis')\n",
    "    #im.set_cmap('hot')\n",
    "    plt.savefig(output_dir + f'{i}.png')\n",
    "  \n",
    "    "
   ]
  },
  {
   "cell_type": "code",
   "execution_count": 35,
   "metadata": {},
   "outputs": [
    {
     "data": {
      "image/png": "[encoded data removed]",
      "text/plain": [
       "<Figure size 288x288 with 1 Axes>"
      ]
     },
     "metadata": {},
     "output_type": "display_data"
    },
    {
     "data": {
      "image/png": "[encoded data removed]",
      "text/plain": [
       "<Figure size 288x288 with 1 Axes>"
      ]
     },
     "metadata": {},
     "output_type": "display_data"
    },
    {
     "data": {
      "image/png": "[encoded data removed]",
      "text/plain": [
       "<Figure size 288x288 with 1 Axes>"
      ]
     },
     "metadata": {},
     "output_type": "display_data"
    },
    {
     "data": {
      "image/png": "[encoded data removed]",
      "text/plain": [
       "<Figure size 288x288 with 1 Axes>"
      ]
     },
     "metadata": {},
     "output_type": "display_data"
    },
    {
     "data": {
      "image/png": "[encoded data removed]",
      "text/plain": [
       "<Figure size 288x288 with 1 Axes>"
      ]
     },
     "metadata": {},
     "output_type": "display_data"
    },
    {
     "data": {
      "image/png": "[encoded data removed]",
      "text/plain": [
       "<Figure size 288x288 with 1 Axes>"
      ]
     },
     "metadata": {},
     "output_type": "display_data"
    }
   ],
   "source": [
    "directo = r'C:\\Users\\ASUS\\Desktop\\gempy_models\\training_data'\n",
    "new_directo = 'gempy_model'\n",
    "path = os.path.join(directo,new_directo) \n",
    "os.mkdir(path)\n",
    "for i,im in enumerate(slices_from_blocks): #i is the index of the list, im is the array object inside the list\n",
    "    \n",
    "    fig = plt.figure(figsize=(4,4))\n",
    "    ax = plt.Axes(fig,[0., 0., 1., 1.]) #\n",
    "    ax.set_axis_off()\n",
    "    fig.add_axes(ax)\n",
    "   \n",
    "    plt.imshow(im, cmap = 'viridis')\n",
    "    #im.set_cmap('hot')\n",
    "    plt.savefig(path + f'{i}.png')\n",
    "  "
   ]
  },
  {
   "cell_type": "code",
   "execution_count": 26,
   "metadata": {},
   "outputs": [
    {
     "name": "stdout",
     "output_type": "stream",
     "text": [
      "(288, 288, 3)\n",
      "(288, 288, 3)\n",
      "(288, 288, 3)\n",
      "(288, 288, 3)\n",
      "(288, 288, 3)\n",
      "(288, 288, 3)\n"
     ]
    }
   ],
   "source": [
    "#code to load and read iamges from a directory\n",
    "import cv2 \n",
    "import os \n",
    "import glob \n",
    "img_dir = r'C:\\Users\\ASUS\\Desktop\\gempy_models\\training_data'  \n",
    "data_path = os.path.join(img_dir,'*g') \n",
    "files = glob.glob(data_path) \n",
    "data = [] \n",
    "for f1 in files: \n",
    "    img = cv2.imread(f1) \n",
    "    print(img.shape)\n",
    "    #data.append(img) "
   ]
  },
  {
   "cell_type": "code",
   "execution_count": 133,
   "metadata": {},
   "outputs": [
    {
     "name": "stdout",
     "output_type": "stream",
     "text": [
      "[[3 3 3 3 3 3 3 3 2 2 2 2 2 2 2 2 2 2 2 1 1 1 1 1 1 1 1 1 1 1 1 1 2 2 2 2\n",
      "  2 2 2 2 2 2 2 2 2 3 3 3 3 3]]\n",
      "int8\n",
      "[[3 3 3 3 3 3 3 3 3 3 2 2 2 2 2 2 2 2 2 2 1 1 1 1 1 1 1 1 1 1 1 1 1 1 1 1\n",
      "  1 1 1 1 1 1 1 1 1 1 1 1 1 1]]\n",
      "int8\n",
      "[[3 3 3 3 3 3 3 3 3 3 2 2 2 2 2 2 2 2 2 2 1 1 1 1 1 1 1 1 1 1 1 1 1 1 1 1\n",
      "  1 1 1 1 1 1 1 1 1 1 1 1 1 1]]\n",
      "int8\n",
      "[[3 3 3 3 3 3 3 3 3 3 2 2 2 2 2 2 2 2 2 2 1 1 1 1 1 1 1 1 1 1 1 1 1 1 1 1\n",
      "  1 1 1 1 1 1 1 1 1 1 1 1 1 1]]\n",
      "int8\n",
      "[[3 3 3 3 3 3 3 3 3 3 2 2 2 2 2 2 2 2 2 2 1 1 1 1 1 1 1 1 1 1 1 1 1 1 1 1\n",
      "  1 1 1 1 1 1 1 1 1 1 1 1 1 1]]\n",
      "int8\n",
      "[[3 3 3 3 3 3 3 3 3 3 2 2 2 2 2 2 2 2 2 2 1 1 1 1 1 1 1 1 1 1 1 1 1 1 1 1\n",
      "  1 1 1 1 1 1 1 1 1 1 1 1 1 1]]\n",
      "int8\n"
     ]
    }
   ],
   "source": [
    "#using opencv to write images to a directory using the enumerate but it gives null array as output\n",
    "disk_dir = r'C:\\Users\\ASUS\\Desktop\\gempy_models\\training_data\\Newfolder'\n",
    "for im,image in enumerate(slices_from_blocks):\n",
    "    #im = cv2.imread(image)\n",
    "    #print(image[:4])\n",
    "    \n",
    "    image = image.astype(np.int8)\n",
    "    #im = im.astype(np.int8)\n",
    "    print(image[:1])\n",
    "    print(image.dtype)\n",
    "    cv2.imwrite(r'C:\\Users\\ASUS\\Desktop\\gempy_models\\training_data' + f'{im}.png', image)"
   ]
  },
  {
   "cell_type": "code",
   "execution_count": 118,
   "metadata": {},
   "outputs": [
    {
     "ename": "OSError",
     "evalue": "cannot write mode F as PNG",
     "output_type": "error",
     "traceback": [
      "\u001b[1;31m---------------------------------------------------------------------------\u001b[0m",
      "\u001b[1;31mKeyError\u001b[0m                                  Traceback (most recent call last)",
      "\u001b[1;32m~\\AppData\\Local\\conda\\conda\\envs\\tf\\lib\\site-packages\\PIL\\PngImagePlugin.py\u001b[0m in \u001b[0;36m_save\u001b[1;34m(im, fp, filename, chunk, save_all)\u001b[0m\n\u001b[0;32m   1171\u001b[0m     \u001b[1;32mtry\u001b[0m\u001b[1;33m:\u001b[0m\u001b[1;33m\u001b[0m\u001b[1;33m\u001b[0m\u001b[0m\n\u001b[1;32m-> 1172\u001b[1;33m         \u001b[0mrawmode\u001b[0m\u001b[1;33m,\u001b[0m \u001b[0mmode\u001b[0m \u001b[1;33m=\u001b[0m \u001b[0m_OUTMODES\u001b[0m\u001b[1;33m[\u001b[0m\u001b[0mmode\u001b[0m\u001b[1;33m]\u001b[0m\u001b[1;33m\u001b[0m\u001b[1;33m\u001b[0m\u001b[0m\n\u001b[0m\u001b[0;32m   1173\u001b[0m     \u001b[1;32mexcept\u001b[0m \u001b[0mKeyError\u001b[0m \u001b[1;32mas\u001b[0m \u001b[0me\u001b[0m\u001b[1;33m:\u001b[0m\u001b[1;33m\u001b[0m\u001b[1;33m\u001b[0m\u001b[0m\n",
      "\u001b[1;31mKeyError\u001b[0m: 'F'",
      "\nThe above exception was the direct cause of the following exception:\n",
      "\u001b[1;31mOSError\u001b[0m                                   Traceback (most recent call last)",
      "\u001b[1;32m<ipython-input-118-e44c33459cf9>\u001b[0m in \u001b[0;36m<module>\u001b[1;34m\u001b[0m\n\u001b[0;32m      2\u001b[0m \u001b[0mdisk_dir\u001b[0m \u001b[1;33m=\u001b[0m \u001b[1;34mr'C:\\Users\\ASUS\\Desktop\\gempy_models\\training_data'\u001b[0m\u001b[1;33m\u001b[0m\u001b[1;33m\u001b[0m\u001b[0m\n\u001b[0;32m      3\u001b[0m \u001b[1;32mfor\u001b[0m \u001b[0mi\u001b[0m\u001b[1;33m,\u001b[0m \u001b[0mimage\u001b[0m \u001b[1;32min\u001b[0m \u001b[0menumerate\u001b[0m\u001b[1;33m(\u001b[0m\u001b[0mslices_from_blocks\u001b[0m\u001b[1;33m)\u001b[0m\u001b[1;33m:\u001b[0m\u001b[1;33m\u001b[0m\u001b[1;33m\u001b[0m\u001b[0m\n\u001b[1;32m----> 4\u001b[1;33m     \u001b[0mImage\u001b[0m\u001b[1;33m.\u001b[0m\u001b[0mfromarray\u001b[0m\u001b[1;33m(\u001b[0m\u001b[0mimage\u001b[0m\u001b[1;33m)\u001b[0m\u001b[1;33m.\u001b[0m\u001b[0msave\u001b[0m\u001b[1;33m(\u001b[0m\u001b[0mdisk_dir\u001b[0m \u001b[1;33m+\u001b[0m \u001b[1;34mf\"{i}.png\"\u001b[0m\u001b[1;33m)\u001b[0m\u001b[1;33m\u001b[0m\u001b[1;33m\u001b[0m\u001b[0m\n\u001b[0m",
      "\u001b[1;32m~\\AppData\\Local\\conda\\conda\\envs\\tf\\lib\\site-packages\\PIL\\Image.py\u001b[0m in \u001b[0;36msave\u001b[1;34m(self, fp, format, **params)\u001b[0m\n\u001b[0;32m   2156\u001b[0m \u001b[1;33m\u001b[0m\u001b[0m\n\u001b[0;32m   2157\u001b[0m         \u001b[1;32mtry\u001b[0m\u001b[1;33m:\u001b[0m\u001b[1;33m\u001b[0m\u001b[1;33m\u001b[0m\u001b[0m\n\u001b[1;32m-> 2158\u001b[1;33m             \u001b[0msave_handler\u001b[0m\u001b[1;33m(\u001b[0m\u001b[0mself\u001b[0m\u001b[1;33m,\u001b[0m \u001b[0mfp\u001b[0m\u001b[1;33m,\u001b[0m \u001b[0mfilename\u001b[0m\u001b[1;33m)\u001b[0m\u001b[1;33m\u001b[0m\u001b[1;33m\u001b[0m\u001b[0m\n\u001b[0m\u001b[0;32m   2159\u001b[0m         \u001b[1;32mfinally\u001b[0m\u001b[1;33m:\u001b[0m\u001b[1;33m\u001b[0m\u001b[1;33m\u001b[0m\u001b[0m\n\u001b[0;32m   2160\u001b[0m             \u001b[1;31m# do what we can to clean up\u001b[0m\u001b[1;33m\u001b[0m\u001b[1;33m\u001b[0m\u001b[1;33m\u001b[0m\u001b[0m\n",
      "\u001b[1;32m~\\AppData\\Local\\conda\\conda\\envs\\tf\\lib\\site-packages\\PIL\\PngImagePlugin.py\u001b[0m in \u001b[0;36m_save\u001b[1;34m(im, fp, filename, chunk, save_all)\u001b[0m\n\u001b[0;32m   1172\u001b[0m         \u001b[0mrawmode\u001b[0m\u001b[1;33m,\u001b[0m \u001b[0mmode\u001b[0m \u001b[1;33m=\u001b[0m \u001b[0m_OUTMODES\u001b[0m\u001b[1;33m[\u001b[0m\u001b[0mmode\u001b[0m\u001b[1;33m]\u001b[0m\u001b[1;33m\u001b[0m\u001b[1;33m\u001b[0m\u001b[0m\n\u001b[0;32m   1173\u001b[0m     \u001b[1;32mexcept\u001b[0m \u001b[0mKeyError\u001b[0m \u001b[1;32mas\u001b[0m \u001b[0me\u001b[0m\u001b[1;33m:\u001b[0m\u001b[1;33m\u001b[0m\u001b[1;33m\u001b[0m\u001b[0m\n\u001b[1;32m-> 1174\u001b[1;33m         \u001b[1;32mraise\u001b[0m \u001b[0mOSError\u001b[0m\u001b[1;33m(\u001b[0m\u001b[1;34m\"cannot write mode %s as PNG\"\u001b[0m \u001b[1;33m%\u001b[0m \u001b[0mmode\u001b[0m\u001b[1;33m)\u001b[0m \u001b[1;32mfrom\u001b[0m \u001b[0me\u001b[0m\u001b[1;33m\u001b[0m\u001b[1;33m\u001b[0m\u001b[0m\n\u001b[0m\u001b[0;32m   1175\u001b[0m \u001b[1;33m\u001b[0m\u001b[0m\n\u001b[0;32m   1176\u001b[0m     \u001b[1;31m#\u001b[0m\u001b[1;33m\u001b[0m\u001b[1;33m\u001b[0m\u001b[1;33m\u001b[0m\u001b[0m\n",
      "\u001b[1;31mOSError\u001b[0m: cannot write mode F as PNG"
     ]
    }
   ],
   "source": [
    "#using PIL to write images to a directory using the enumerate but it gives ERROR\n",
    "from PIL import Image\n",
    "disk_dir = r'C:\\Users\\ASUS\\Desktop\\gempy_models\\training_data'\n",
    "for i, image in enumerate(slices_from_blocks):\n",
    "    Image.fromarray(image).save(disk_dir + f\"{i}.png\")\n"
   ]
  },
  {
   "cell_type": "code",
   "execution_count": 87,
   "metadata": {},
   "outputs": [],
   "source": [
    "def plotimages(image_arr):\n",
    "   fig, axes= plt.subplots(1,i, figsize=(20,20))\n",
    "   for img, ax in zip(image_arr, axes):\n",
    "     ax.imshow(img)\n",
    "     plt.tight_layout()\n",
    "     plt.imshow(img)"
   ]
  },
  {
   "cell_type": "code",
   "execution_count": 127,
   "metadata": {},
   "outputs": [
    {
     "name": "stdout",
     "output_type": "stream",
     "text": [
      "(50, 50)\n",
      "(50, 50)\n",
      "(50, 50)\n",
      "(50, 50)\n",
      "(50, 50)\n",
      "(50, 50)\n"
     ]
    },
    {
     "data": {
      "image/png": "[encoded data removed]",
      "text/plain": [
       "<Figure size 288x288 with 1 Axes>"
      ]
     },
     "metadata": {},
     "output_type": "display_data"
    },
    {
     "data": {
      "image/png": "[encoded data removed]",
      "text/plain": [
       "<Figure size 288x288 with 1 Axes>"
      ]
     },
     "metadata": {},
     "output_type": "display_data"
    },
    {
     "data": {
      "image/png": "[encoded data removed]",
      "text/plain": [
       "<Figure size 288x288 with 1 Axes>"
      ]
     },
     "metadata": {},
     "output_type": "display_data"
    },
    {
     "data": {
      "image/png": "[encoded data removed]",
      "text/plain": [
       "<Figure size 288x288 with 1 Axes>"
      ]
     },
     "metadata": {},
     "output_type": "display_data"
    },
    {
     "data": {
      "image/png": "[encoded data removed]",
      "text/plain": [
       "<Figure size 288x288 with 1 Axes>"
      ]
     },
     "metadata": {},
     "output_type": "display_data"
    },
    {
     "data": {
      "image/png": "[encoded data removed]",
      "text/plain": [
       "<Figure size 288x288 with 1 Axes>"
      ]
     },
     "metadata": {},
     "output_type": "display_data"
    }
   ],
   "source": [
    "#using enumerate method to save a list of arrays as images into a directory THIS WORKED OUT FINALLY!!!!!!!!!\n",
    "output_dir = r'C:\\Users\\ASUS\\Desktop\\gempy_models\\training_data\\Newfolder'\n",
    "for i,im in enumerate(new_blocks):\n",
    "    #print(i.shape)\n",
    "    im = im[:,0,:]\n",
    "    print(im.shape)\n",
    "    my_dpi=100\n",
    "\n",
    "    fig = plt.figure(figsize=(4,4))\n",
    "\n",
    "    ax = plt.Axes(fig, [0., 0., 1., 1.])\n",
    "    ax.set_axis_off()\n",
    "    fig.add_axes(ax)\n",
    "    plt.imshow(im)\n",
    "    plt.savefig(output_dir + f'{i}.png')\n",
    "    #plt.savefig(r'C:\\Users\\ASUS\\Desktop\\gempy_models\\training_data\\geo_model_2.png')\n",
    "    #plt.imsave(r'C:\\Users\\ASUS\\Desktop\\gempy_models\\training_data\\geo_model_2.png', im)\n",
    "    "
   ]
  },
  {
   "cell_type": "markdown",
   "metadata": {},
   "source": [
    "sphinx_gallery_thumbnail_number = 2\n",
    "\n"
   ]
  },
  {
   "cell_type": "code",
   "execution_count": 26,
   "metadata": {},
   "outputs": [
    {
     "data": {
      "image/png": "[encoded data removed]",
      "text/plain": [
       "<Figure size 748.8x514.8 with 1 Axes>"
      ]
     },
     "metadata": {},
     "output_type": "display_data"
    }
   ],
   "source": [
    "geo_model = gp.plot_2d(geo_data, cell_number=5,\n",
    "           direction='x', show_data=True)\n",
    "plt.savefig('geo_model.png')"
   ]
  }
 ],
 "metadata": {
  "kernelspec": {
   "display_name": "Python 3",
   "language": "python",
   "name": "python3"
  },
  "language_info": {
   "codemirror_mode": {
    "name": "ipython",
    "version": 3
   },
   "file_extension": ".py",
   "mimetype": "text/x-python",
   "name": "python",
   "nbconvert_exporter": "python",
   "pygments_lexer": "ipython3",
   "version": "3.7.7"
  }
 },
 "nbformat": 4,
 "nbformat_minor": 1
}
